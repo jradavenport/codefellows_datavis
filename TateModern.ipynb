{
 "cells": [
  {
   "cell_type": "code",
   "execution_count": null,
   "metadata": {
    "collapsed": false
   },
   "outputs": [],
   "source": [
    "import numpy as np\n",
    "import matplotlib.pylab as plt\n",
    "from matplotlib import cm\n",
    "from matplotlib.colors import LogNorm\n",
    "%matplotlib inline\n"
   ]
  },
  {
   "cell_type": "code",
   "execution_count": null,
   "metadata": {
    "collapsed": false
   },
   "outputs": [],
   "source": [
    "file = 'art_cleaned.csv'"
   ]
  },
  {
   "cell_type": "code",
   "execution_count": null,
   "metadata": {
    "collapsed": false
   },
   "outputs": [],
   "source": [
    "data = np.recfromcsv(file)"
   ]
  },
  {
   "cell_type": "code",
   "execution_count": null,
   "metadata": {
    "collapsed": false
   },
   "outputs": [],
   "source": [
    "print(len(data['year']),'a')"
   ]
  },
  {
   "cell_type": "code",
   "execution_count": null,
   "metadata": {
    "collapsed": false
   },
   "outputs": [],
   "source": [
    "# How many pieces of artwork per year?\n",
    "z = plt.hist(data['year'], bins=np.arange(1500,2012,10),histtype='step')\n",
    "plt.yscale('log')\n",
    "plt.ylim((1,1e4))\n",
    "plt.xlabel('Year')\n",
    "plt.ylabel('# Pieces')"
   ]
  },
  {
   "cell_type": "code",
   "execution_count": null,
   "metadata": {
    "collapsed": false
   },
   "outputs": [],
   "source": [
    "#How about Size vs Year?\n",
    "\n",
    "\n"
   ]
  },
  {
   "cell_type": "code",
   "execution_count": null,
   "metadata": {
    "collapsed": false
   },
   "outputs": [],
   "source": [
    "plt.figure(figsize=(10,7))\n",
    "\n",
    "h0 = plt.hist2d(data['width'], data['height'],bins=200,norm=LogNorm())\n",
    "plt.xlim((0,5000))\n",
    "plt.ylim((0,5000))\n",
    "plt.xlabel('width')\n",
    "plt.ylabel('height')\n",
    "plt.plot([0,5000], [0,5000],'k')\n"
   ]
  },
  {
   "cell_type": "code",
   "execution_count": null,
   "metadata": {
    "collapsed": false
   },
   "outputs": [],
   "source": [
    "plt.figure(figsize=(10,7))\n",
    "h = plt.hist2d(np.log10(data['width']), \n",
    "           np.log10(data['height'])/np.log10(data['width']),\n",
    "           bins=(200,200),norm=LogNorm())\n",
    "plt.xlim((1.5,3.5))\n",
    "plt.ylim((0.5,1.5))\n",
    "plt.colorbar()"
   ]
  },
  {
   "cell_type": "code",
   "execution_count": null,
   "metadata": {
    "collapsed": false
   },
   "outputs": [],
   "source": [
    "h, xi, yi = plt.histogram2d(np.log10(data['width']), \n",
    "           np.log10(data['height'])/np.log10(data['width']),\n",
    "           bins=(200,300) )\n",
    "\n",
    "plt.figure(figsize=(10,7))\n",
    "plt.imshow(np.log10(h+1).T,interpolation='nearest', origin='lower', aspect=2,\n",
    "           extent=(np.min(xi),np.max(xi),np.min(yi),np.max(yi)),cmap=cm.BuPu)\n",
    "plt.xlim((1.5,3.5))\n",
    "plt.ylim((0.6,1.4))\n",
    "plt.xlabel('Width')\n"
   ]
  },
  {
   "cell_type": "markdown",
   "metadata": {},
   "source": [
    "#Now for something completely different... Art -> Data -> Art"
   ]
  },
  {
   "cell_type": "code",
   "execution_count": null,
   "metadata": {
    "collapsed": false
   },
   "outputs": [],
   "source": [
    "# now let's work on drawing squares\n",
    "\n",
    "x1 = np.array([-1, 1, 1, -1, -1], dtype='float')\n",
    "y1 = np.array([-1, -1, 1, 1, -1], dtype='float')\n",
    "\n",
    "# set up the figure\n",
    "plt.figure(figsize=(6,6))\n",
    "plt.xlim((-5000,5000))\n",
    "plt.ylim((-5000,5000))\n",
    "\n",
    "# need to do this for ALL the length of data\n",
    "Nsamp = 1000 #len(data)\n",
    "for i in range(0, Nsamp):\n",
    "    plt.plot(x1*data['width'][i], y1*data['height'][i], 'k', alpha=0.1)"
   ]
  },
  {
   "cell_type": "code",
   "execution_count": null,
   "metadata": {
    "collapsed": false
   },
   "outputs": [],
   "source": []
  }
 ],
 "metadata": {
  "anaconda-cloud": {},
  "kernelspec": {
   "display_name": "Python [Root]",
   "language": "python",
   "name": "Python [Root]"
  },
  "language_info": {
   "codemirror_mode": {
    "name": "ipython",
    "version": 2
   },
   "file_extension": ".py",
   "mimetype": "text/x-python",
   "name": "python",
   "nbconvert_exporter": "python",
   "pygments_lexer": "ipython2",
   "version": "2.7.12"
  }
 },
 "nbformat": 4,
 "nbformat_minor": 0
}
